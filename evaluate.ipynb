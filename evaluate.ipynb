{
 "cells": [
  {
   "cell_type": "code",
   "execution_count": 1,
   "metadata": {},
   "outputs": [],
   "source": [
    "from coach import Coach\n",
    "from translator import Translator\n",
    "\n",
    "import torch"
   ]
  },
  {
   "cell_type": "code",
   "execution_count": 2,
   "metadata": {},
   "outputs": [],
   "source": [
    "with open(\"transforms/vi_en_lang_pair.pkl\", \"rb+\") as f:\n",
    "    lang_pair = torch.load(f)\n",
    "with open(\"vi_en_validation_lang_pair.pkl\", \"rb+\") as f:\n",
    "    valid_lang_pair = torch.load(f)"
   ]
  },
  {
   "cell_type": "code",
   "execution_count": 3,
   "metadata": {},
   "outputs": [],
   "source": [
    "with open(\"model_test.pkl\", \"rb\") as f:\n",
    "    coach = torch.load(f)\n",
    "    \n",
    "with open(\"model_attn_test.pkl\", \"rb\") as f:\n",
    "    coach_attn = torch.load(f)"
   ]
  },
  {
   "cell_type": "code",
   "execution_count": 4,
   "metadata": {},
   "outputs": [],
   "source": [
    "test_sentence = valid_lang_pair.lang1[0]"
   ]
  },
  {
   "cell_type": "code",
   "execution_count": 5,
   "metadata": {},
   "outputs": [],
   "source": [
    "translator = Translator(coach.encoder, coach.decoder, lang_pair, max_output_length = len(test_sentence))\n",
    "attn_translator = Translator(coach_attn.encoder, coach_attn.decoder, lang_pair, max_output_length = len(test_sentence))"
   ]
  },
  {
   "cell_type": "code",
   "execution_count": 6,
   "metadata": {},
   "outputs": [
    {
     "name": "stderr",
     "output_type": "stream",
     "text": [
      "Encoding Input: 100%|██████████| 54/54 [00:00<00:00, 644.22token/s]\n",
      "Decoding: 100%|██████████| 54/54 [00:00<00:00, 175.48token/s]\n",
      "Encoding Input: 100%|██████████| 54/54 [00:00<00:00, 1100.18token/s]\n",
      "Decoding: 100%|██████████| 54/54 [00:00<00:00, 350.84token/s]\n"
     ]
    }
   ],
   "source": [
    "input, pred_trans, score, _ = translator.translate(test_sentence)\n",
    "attn_input, attn_pred_trans, attn_score, attns = attn_translator.translate(test_sentence)"
   ]
  },
  {
   "cell_type": "code",
   "execution_count": 7,
   "metadata": {},
   "outputs": [
    {
     "data": {
      "text/plain": [
       "'. . . . . . . . . . . . . . . . . . . . . . . . . . . . . . . . . . . . . . . . . . . . . . . . . . . . . .'"
      ]
     },
     "execution_count": 7,
     "metadata": {},
     "output_type": "execute_result"
    }
   ],
   "source": [
    "pred_trans"
   ]
  },
  {
   "cell_type": "code",
   "execution_count": 8,
   "metadata": {},
   "outputs": [
    {
     "data": {
      "text/plain": [
       "(1.9059035372199336, 1.9059035372199336)"
      ]
     },
     "execution_count": 8,
     "metadata": {},
     "output_type": "execute_result"
    }
   ],
   "source": [
    "score, attn_score"
   ]
  }
 ],
 "metadata": {
  "kernelspec": {
   "display_name": "Python 3",
   "language": "python",
   "name": "python3"
  },
  "language_info": {
   "codemirror_mode": {
    "name": "ipython",
    "version": 3
   },
   "file_extension": ".py",
   "mimetype": "text/x-python",
   "name": "python",
   "nbconvert_exporter": "python",
   "pygments_lexer": "ipython3",
   "version": "3.7.0"
  }
 },
 "nbformat": 4,
 "nbformat_minor": 2
}
