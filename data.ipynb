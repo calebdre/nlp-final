{
 "cells": [
  {
   "cell_type": "code",
   "execution_count": 1,
   "metadata": {},
   "outputs": [],
   "source": [
    "from reader import Reader\n",
    "from pipeline import Pipeline\n",
    "import transforms\n",
    "import pandas as pd\n",
    "import numpy as np\n",
    "from lang_pair import LangPair"
   ]
  },
  {
   "cell_type": "code",
   "execution_count": 2,
   "metadata": {},
   "outputs": [],
   "source": [
    "r = Reader()\n",
    "r.read()"
   ]
  },
  {
   "cell_type": "code",
   "execution_count": 3,
   "metadata": {},
   "outputs": [],
   "source": [
    "vi_vi, vi_en = r.get_train(\"vi\")\n",
    "vi_vi, vi_en = pd.Series(vi_vi), pd.Series(vi_en)"
   ]
  },
  {
   "cell_type": "code",
   "execution_count": 4,
   "metadata": {},
   "outputs": [
    {
     "data": {
      "text/plain": [
       "<pipeline.Pipeline at 0x11b2bde48>"
      ]
     },
     "execution_count": 4,
     "metadata": {},
     "output_type": "execute_result"
    }
   ],
   "source": [
    "pl = Pipeline()\n",
    "pl.add(transforms.to_ascii)\n",
    "pl.add(transforms.lower)\n",
    "pl.add(transforms.normalize)\n",
    "pl.add(transforms.to_lang_vocab)"
   ]
  },
  {
   "cell_type": "code",
   "execution_count": 5,
   "metadata": {},
   "outputs": [
    {
     "name": "stdout",
     "output_type": "stream",
     "text": [
      "****************\n",
      "Starting 'vi_vi_train_10_chars_10k_vocab' pipeline\n",
      "****************\n",
      "\n",
      "Applying 'to_ascii'\n",
      "Applying 'lower'\n",
      "Applying 'normalize'\n",
      "Applying 'to_lang_vocab'\n"
     ]
    }
   ],
   "source": [
    "vi_vi_vocab = pl.apply(\"vi_vi_train_10_chars_10k_vocab\", vi_vi)"
   ]
  },
  {
   "cell_type": "code",
   "execution_count": 6,
   "metadata": {},
   "outputs": [
    {
     "name": "stdout",
     "output_type": "stream",
     "text": [
      "****************\n",
      "Starting 'vi_en_train_10_chars_10k_vocab' pipeline\n",
      "****************\n",
      "\n",
      "Applying 'to_ascii'\n",
      "Applying 'lower'\n",
      "Applying 'normalize'\n",
      "Applying 'to_lang_vocab'\n"
     ]
    }
   ],
   "source": [
    "vi_en_vocab = pl.apply(\"vi_en_train_10_chars_10k_vocab\", vi_en)"
   ]
  },
  {
   "cell_type": "markdown",
   "metadata": {},
   "source": [
    "\n",
    "**Run the above and then restart the kernel before running the below**\n",
    "\n"
   ]
  },
  {
   "cell_type": "code",
   "execution_count": 2,
   "metadata": {},
   "outputs": [],
   "source": [
    "vi_vi_vocab, vi_en_vocab = Pipeline.load(\"vi_vi_train_10_chars_10k_vocab\").data, Pipeline.load(\"vi_en_train_10_chars_10k_vocab\").data"
   ]
  },
  {
   "cell_type": "code",
   "execution_count": 3,
   "metadata": {},
   "outputs": [],
   "source": [
    "vi_vi_idxs = pd.Series(vi_vi_vocab.get_idxs())\n",
    "vi_en_idxs = pd.Series(vi_en_vocab.get_idxs())"
   ]
  },
  {
   "cell_type": "code",
   "execution_count": 4,
   "metadata": {},
   "outputs": [
    {
     "data": {
      "text/plain": [
       "<pipeline.Pipeline at 0x115fc6438>"
      ]
     },
     "execution_count": 4,
     "metadata": {},
     "output_type": "execute_result"
    }
   ],
   "source": [
    "pair_pl = Pipeline()\n",
    "pair_pl.add(transforms.filter_length, args = (vi_en_idxs, 10))"
   ]
  },
  {
   "cell_type": "code",
   "execution_count": 5,
   "metadata": {},
   "outputs": [
    {
     "name": "stdout",
     "output_type": "stream",
     "text": [
      "****************\n",
      "Starting 'vi_idx_10chars_filter' pipeline\n",
      "****************\n",
      "\n",
      "Applying 'filter_length'\n"
     ]
    }
   ],
   "source": [
    "vi_vi_idx, vi_en_idx = pair_pl.apply(\"vi_idx_10chars_filter\", vi_vi_idxs)"
   ]
  },
  {
   "cell_type": "code",
   "execution_count": 6,
   "metadata": {},
   "outputs": [],
   "source": [
    "vi_vi_idxs, vi_en_idxs = Pipeline.load(\"vi_idx_10chars_filter\").data"
   ]
  },
  {
   "cell_type": "code",
   "execution_count": 6,
   "metadata": {},
   "outputs": [],
   "source": [
    "p = LangPair(vi_vi_idx, vi_vi_vocab.eos_idx, vi_en_idx, vi_en_vocab.eos_idx)"
   ]
  },
  {
   "cell_type": "code",
   "execution_count": 9,
   "metadata": {},
   "outputs": [
    {
     "data": {
      "text/plain": [
       "([5061438,\n",
       "  5061479,\n",
       "  5061518,\n",
       "  5061459,\n",
       "  5061528,\n",
       "  4982999,\n",
       "  5061525,\n",
       "  5061484,\n",
       "  5061477,\n",
       "  5061529,\n",
       "  5061531],\n",
       " [2726141,\n",
       "  2725732,\n",
       "  2726164,\n",
       "  2198061,\n",
       "  2725741,\n",
       "  2726029,\n",
       "  2726168,\n",
       "  2726169,\n",
       "  2726171])"
      ]
     },
     "execution_count": 9,
     "metadata": {},
     "output_type": "execute_result"
    }
   ],
   "source": [
    "p.get_rand_sentence()"
   ]
  }
 ],
 "metadata": {
  "kernelspec": {
   "display_name": "Python 3",
   "language": "python",
   "name": "python3"
  },
  "language_info": {
   "codemirror_mode": {
    "name": "ipython",
    "version": 3
   },
   "file_extension": ".py",
   "mimetype": "text/x-python",
   "name": "python",
   "nbconvert_exporter": "python",
   "pygments_lexer": "ipython3",
   "version": "3.7.0"
  }
 },
 "nbformat": 4,
 "nbformat_minor": 2
}
