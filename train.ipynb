{
 "cells": [
  {
   "cell_type": "code",
   "execution_count": 1,
   "metadata": {},
   "outputs": [],
   "source": [
    "from pipeline import Pipeline\n",
    "from lang_pair import LangPair\n",
    "\n",
    "from models.encoder import Encoder\n",
    "from models.decoder import Decoder\n",
    "\n",
    "from coach import Coach\n",
    "import torch.optim as optim\n",
    "import torch.nn as nn\n",
    "import torch\n",
    "\n",
    "import os"
   ]
  },
  {
   "cell_type": "code",
   "execution_count": 2,
   "metadata": {},
   "outputs": [],
   "source": [
    "vi_vi_vocab, vi_en_vocab = Pipeline.load(\"vi_vi_train_10_chars_10k_vocab\").data, Pipeline.load(\"vi_en_train_10_chars_10k_vocab\").data\n",
    "vi_vi_idxs, vi_en_idxs = Pipeline.load(\"vi_idx_10chars_filter\").data"
   ]
  },
  {
   "cell_type": "code",
   "execution_count": 3,
   "metadata": {},
   "outputs": [],
   "source": [
    "vi_en_pair = LangPair(vi_vi_idxs, vi_vi_vocab.eos_idx, vi_en_idxs, vi_en_vocab.eos_idx)"
   ]
  },
  {
   "cell_type": "code",
   "execution_count": 4,
   "metadata": {},
   "outputs": [],
   "source": [
    "batch_size = 32\n",
    "learning_rate = .1"
   ]
  },
  {
   "cell_type": "code",
   "execution_count": 5,
   "metadata": {},
   "outputs": [],
   "source": [
    "enc_params = {\n",
    "    \"input_vocab_size\": vi_vi_vocab.size,\n",
    "    \"embedding_size\": 300,\n",
    "    \"hidden_size\": 256,\n",
    "    \"n_layers\": 1,\n",
    "    \"dropout\": 0\n",
    "}"
   ]
  },
  {
   "cell_type": "code",
   "execution_count": 6,
   "metadata": {},
   "outputs": [],
   "source": [
    "dec_params = {\n",
    "    \"target_vocab_size\": vi_en_vocab.size,\n",
    "    \"embedding_size\": 300,\n",
    "    \"hidden_size\": 256,\n",
    "    \"n_layers\": 1,\n",
    "    \"dropout\": 0,\n",
    "    \"batch_size\": batch_size\n",
    "}"
   ]
  },
  {
   "cell_type": "code",
   "execution_count": 7,
   "metadata": {},
   "outputs": [],
   "source": [
    "encoder = Encoder(**enc_params)\n",
    "decoder = Decoder(**dec_params)"
   ]
  },
  {
   "cell_type": "code",
   "execution_count": 8,
   "metadata": {},
   "outputs": [],
   "source": [
    "enc_optimizer = optim.SGD(encoder.parameters(), lr = learning_rate)\n",
    "dec_optimizer = optim.SGD(decoder.parameters(), lr = learning_rate)\n",
    "loss_fn = nn.NLLLoss()"
   ]
  },
  {
   "cell_type": "code",
   "execution_count": 9,
   "metadata": {},
   "outputs": [],
   "source": [
    "coach_params = {\n",
    "    \"lang_pair\": vi_en_pair, \n",
    "    \"encoder\": encoder, \n",
    "    \"enc_optimizer\": enc_optimizer, \n",
    "    \"decoder\": decoder, \n",
    "    \"dec_optimizer\": dec_optimizer, \n",
    "    \"loss_fn\": loss_fn\n",
    "}\n",
    "\n",
    "coach = Coach(**coach_params)"
   ]
  },
  {
   "cell_type": "code",
   "execution_count": 10,
   "metadata": {},
   "outputs": [],
   "source": [
    "training_params = {\n",
    "    \"learning_rate\": learning_rate,\n",
    "    \"iterations\": 75000,\n",
    "    \"print_interval\": 1500,\n",
    "    \"batch_size\": batch_size\n",
    "}"
   ]
  },
  {
   "cell_type": "code",
   "execution_count": null,
   "metadata": {},
   "outputs": [
    {
     "name": "stderr",
     "output_type": "stream",
     "text": [
      "Training Iterations:   2%|▏         | 46/2343 [00:41<29:40,  1.29batch/s]"
     ]
    },
    {
     "name": "stdout",
     "output_type": "stream",
     "text": [
      "Interval 1/46:\tAverage Loss: 10.6141\n",
      "\n"
     ]
    },
    {
     "name": "stderr",
     "output_type": "stream",
     "text": [
      "Training Iterations:   4%|▍         | 92/2343 [01:29<37:20,  1.00batch/s]"
     ]
    },
    {
     "name": "stdout",
     "output_type": "stream",
     "text": [
      "Interval 2/46:\tAverage Loss: 10.6135\n",
      "\n"
     ]
    },
    {
     "name": "stderr",
     "output_type": "stream",
     "text": [
      "Training Iterations:   5%|▌         | 123/2343 [02:00<34:35,  1.07batch/s]"
     ]
    }
   ],
   "source": [
    "coach.train(**training_params)"
   ]
  }
 ],
 "metadata": {
  "kernelspec": {
   "display_name": "Python 3",
   "language": "python",
   "name": "python3"
  },
  "language_info": {
   "codemirror_mode": {
    "name": "ipython",
    "version": 3
   },
   "file_extension": ".py",
   "mimetype": "text/x-python",
   "name": "python",
   "nbconvert_exporter": "python",
   "pygments_lexer": "ipython3",
   "version": "3.7.0"
  }
 },
 "nbformat": 4,
 "nbformat_minor": 2
}
