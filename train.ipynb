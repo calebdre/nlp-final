{
 "cells": [
  {
   "cell_type": "code",
   "execution_count": null,
   "metadata": {},
   "outputs": [],
   "source": [
    "from pipeline import Pipeline\n",
    "from lang_pair import LangPair\n",
    "\n",
    "from models.encoder import Encoder\n",
    "from models.decoder import Decoder\n",
    "from models.attn import Attn\n",
    "\n",
    "from coach import Coach\n",
    "from translator import Translator\n",
    "\n",
    "import torch.optim as optim\n",
    "import torch.nn as nn\n",
    "import torch\n",
    "\n",
    "import pandas as pd\n",
    "import io"
   ]
  },
  {
   "cell_type": "code",
   "execution_count": null,
   "metadata": {
    "scrolled": false
   },
   "outputs": [
    {
     "name": "stdout",
     "output_type": "stream",
     "text": [
      "***************\n",
      "Training w/o attention\n",
      "***************\n",
      "\n",
      "Fetching batches...\n",
      "\n"
     ]
    },
    {
     "name": "stderr",
     "output_type": "stream",
     "text": [
      "Training Iterations:   1%|          | 9/800 [00:39<49:47,  3.78s/ batch]  "
     ]
    }
   ],
   "source": [
    "from train import main\n",
    "\n",
    "params = {\n",
    "    \"lang_pair_path\": \"vi_en_lang_pair.pkl\", \n",
    "    \"hidden_size\": 150, \n",
    "    \"batch_size\": 25,\n",
    "    \"learning_rate\": .1,\n",
    "    \"hidden_size\": 150,\n",
    "    \"embed_size\": 300,\n",
    "    \"enc_layers\": 1,\n",
    "    \"dec_layers\": 1,\n",
    "    \"use_attn\": False,\n",
    "    \"save_filename\": \"model_attn_test\",\n",
    "    \"print_interval\": 2000,\n",
    "    \"iterations\": 20000,\n",
    "    \"num_epochs\": None\n",
    "}\n",
    "\n",
    "main(**params)"
   ]
  },
  {
   "cell_type": "code",
   "execution_count": 2,
   "metadata": {},
   "outputs": [],
   "source": [
    "device = torch.device(\"cuda\" if torch.cuda.is_available() else \"cpu\")"
   ]
  },
  {
   "cell_type": "code",
   "execution_count": 3,
   "metadata": {},
   "outputs": [],
   "source": [
    "# vi_vi_vocab, vi_en_vocab = Pipeline.load(\"vi_vi_train\").data, Pipeline.load(\"vi_en_train\").data\n",
    "# vi_en_pair = LangPair(vi_vi_vocab, vi_en_vocab, device = device)\n",
    "# with open(\"transforms/vi_en_lang_pair.pkl\", \"wb+\") as f:\n",
    "#     torch.save(vi_en_pair, f)"
   ]
  },
  {
   "cell_type": "code",
   "execution_count": 4,
   "metadata": {},
   "outputs": [],
   "source": [
    "with open(\"transforms/vi_en_lang_pair.pkl\", \"rb+\") as f:\n",
    "    lang_pair = torch.load(f)\n",
    "with open(\"vi_en_validation_lang_pair.pkl\", \"rb+\") as f:\n",
    "    valid_lang_pair = torch.load(f)"
   ]
  },
  {
   "cell_type": "code",
   "execution_count": 5,
   "metadata": {},
   "outputs": [],
   "source": [
    "hidden_size = 100\n",
    "batch_size = 20\n",
    "learning_rate = .1\n",
    "embed_size = 250"
   ]
  },
  {
   "cell_type": "code",
   "execution_count": 6,
   "metadata": {},
   "outputs": [],
   "source": [
    "enc_params = {\n",
    "    \"input_vocab_size\": lang_pair.lang1_vocab.size,\n",
    "    \"hidden_size\": hidden_size,\n",
    "    \"n_layers\": 1,\n",
    "    \"dropout\": 0,\n",
    "    \"embed_size\": embed_size\n",
    "}"
   ]
  },
  {
   "cell_type": "code",
   "execution_count": 7,
   "metadata": {},
   "outputs": [],
   "source": [
    "dec_params = {\n",
    "    \"target_vocab_size\": lang_pair.lang2_vocab.size,\n",
    "    \"hidden_size\": hidden_size,\n",
    "    \"n_layers\": 1,\n",
    "    \"dropout\": 0,\n",
    "}"
   ]
  },
  {
   "cell_type": "code",
   "execution_count": 8,
   "metadata": {},
   "outputs": [],
   "source": [
    "attn_params = {\n",
    "    \"hidden_size\": hidden_size,\n",
    "    \"method\": \"general\"\n",
    "}"
   ]
  },
  {
   "cell_type": "code",
   "execution_count": 16,
   "metadata": {},
   "outputs": [],
   "source": [
    "attn = Attn(**attn_params).to(device)\n",
    "encoder = Encoder(**enc_params).to(device)\n",
    "decoder = Decoder(**dec_params).to(device)\n",
    "decoder_attn = Decoder(**dec_params, attn = attn).to(device)"
   ]
  },
  {
   "cell_type": "code",
   "execution_count": 17,
   "metadata": {},
   "outputs": [],
   "source": [
    "enc_optimizer = optim.SGD(encoder.parameters(), lr = learning_rate)\n",
    "dec_optimizer = optim.SGD(decoder.parameters(), lr = learning_rate)\n",
    "dec_attn_optimizer = optim.SGD(decoder_attn.parameters(), lr = learning_rate)\n",
    "loss_fn = nn.NLLLoss()"
   ]
  },
  {
   "cell_type": "code",
   "execution_count": 18,
   "metadata": {},
   "outputs": [],
   "source": [
    "coach_params = {\n",
    "    \"lang_pair\": lang_pair, \n",
    "    \"encoder\": encoder, \n",
    "    \"enc_optimizer\": enc_optimizer, \n",
    "    \"decoder\": decoder, \n",
    "    \"dec_optimizer\": dec_optimizer, \n",
    "    \"loss_fn\": loss_fn,\n",
    "    \"device\": device\n",
    "}\n",
    "\n",
    "coach_attn_params = {\n",
    "    **coach_params,\n",
    "    \"dec_optimizer\": dec_attn_optimizer,\n",
    "    \"decoder\": decoder_attn\n",
    "}\n",
    "\n",
    "coach = Coach(**coach_params)\n",
    "coach_attn = Coach(**coach_attn_params)"
   ]
  },
  {
   "cell_type": "code",
   "execution_count": 19,
   "metadata": {},
   "outputs": [],
   "source": [
    "rand_training_params = {\n",
    "    \"learning_rate\": learning_rate,\n",
    "    \"iterations\": 10000,\n",
    "    \"print_interval\": 1000,\n",
    "    \"batch_size\": batch_size\n",
    "}\n",
    "\n",
    "epoch_training_params = {\n",
    "    \"num_epochs\": 2,\n",
    "    \"print_interval\": 5000,\n",
    "    \"learning_rate\": learning_rate,\n",
    "    \"batch_size\": batch_size,\n",
    "    \"percent_of_data\": 1\n",
    "}"
   ]
  },
  {
   "cell_type": "code",
   "execution_count": 20,
   "metadata": {},
   "outputs": [
    {
     "name": "stdout",
     "output_type": "stream",
     "text": [
      "Fetching batches...\n",
      "\n"
     ]
    },
    {
     "name": "stderr",
     "output_type": "stream",
     "text": [
      "Training Iterations:  10%|█         | 51/500 [01:45<15:41,  2.10s/ batch]"
     ]
    },
    {
     "name": "stdout",
     "output_type": "stream",
     "text": [
      "Interval (1/10) average loss: 10.1010\n"
     ]
    },
    {
     "name": "stderr",
     "output_type": "stream",
     "text": [
      "Training Iterations:  20%|██        | 101/500 [03:15<17:01,  2.56s/ batch]"
     ]
    },
    {
     "name": "stdout",
     "output_type": "stream",
     "text": [
      "Interval (2/10) average loss: 8.2698\n"
     ]
    },
    {
     "name": "stderr",
     "output_type": "stream",
     "text": [
      "Training Iterations:  30%|███       | 151/500 [04:43<06:32,  1.13s/ batch]"
     ]
    },
    {
     "name": "stdout",
     "output_type": "stream",
     "text": [
      "Interval (3/10) average loss: 7.3693\n"
     ]
    },
    {
     "name": "stderr",
     "output_type": "stream",
     "text": [
      "Training Iterations:  40%|████      | 201/500 [06:27<09:46,  1.96s/ batch]"
     ]
    },
    {
     "name": "stdout",
     "output_type": "stream",
     "text": [
      "Interval (4/10) average loss: 6.8652\n"
     ]
    },
    {
     "name": "stderr",
     "output_type": "stream",
     "text": [
      "Training Iterations:  50%|█████     | 251/500 [07:52<11:26,  2.76s/ batch]"
     ]
    },
    {
     "name": "stdout",
     "output_type": "stream",
     "text": [
      "Interval (5/10) average loss: 6.0817\n"
     ]
    },
    {
     "name": "stderr",
     "output_type": "stream",
     "text": [
      "Training Iterations:  60%|██████    | 301/500 [09:25<06:57,  2.10s/ batch]"
     ]
    },
    {
     "name": "stdout",
     "output_type": "stream",
     "text": [
      "Interval (6/10) average loss: 5.7378\n"
     ]
    },
    {
     "name": "stderr",
     "output_type": "stream",
     "text": [
      "Training Iterations:  70%|███████   | 351/500 [10:56<03:13,  1.30s/ batch]"
     ]
    },
    {
     "name": "stdout",
     "output_type": "stream",
     "text": [
      "Interval (7/10) average loss: 5.2971\n"
     ]
    },
    {
     "name": "stderr",
     "output_type": "stream",
     "text": [
      "Training Iterations:  80%|████████  | 401/500 [12:33<02:29,  1.51s/ batch]"
     ]
    },
    {
     "name": "stdout",
     "output_type": "stream",
     "text": [
      "Interval (8/10) average loss: 5.1179\n"
     ]
    },
    {
     "name": "stderr",
     "output_type": "stream",
     "text": [
      "Training Iterations:  90%|█████████ | 451/500 [14:00<01:15,  1.55s/ batch]"
     ]
    },
    {
     "name": "stdout",
     "output_type": "stream",
     "text": [
      "Interval (9/10) average loss: 4.9343\n"
     ]
    },
    {
     "name": "stderr",
     "output_type": "stream",
     "text": [
      "Training Iterations: 100%|██████████| 500/500 [15:53<00:00,  1.57s/ batch]\n"
     ]
    }
   ],
   "source": [
    "# losses = coach.train_random(**rand_training_params)\n",
    "losses = coach.train_random(**rand_training_params)\n",
    "with open(\"model_test.pkl\", \"wb\") as f:\n",
    "    torch.save(coach, f)"
   ]
  },
  {
   "cell_type": "code",
   "execution_count": null,
   "metadata": {},
   "outputs": [],
   "source": [
    "# losses = coach.train_random(**rand_training_params)\n",
    "\n",
    "#attn_losses, attns = coach_attn.train_random(**rand_training_params)\n",
    "# with open(\"model_attn_test.pkl\", \"wb\") as f:\n",
    "#     torch.save(coach_attn, f)"
   ]
  },
  {
   "cell_type": "code",
   "execution_count": null,
   "metadata": {},
   "outputs": [],
   "source": []
  },
  {
   "cell_type": "code",
   "execution_count": null,
   "metadata": {},
   "outputs": [],
   "source": [
    "'''\n",
    "https://arxiv.org/pdf/1703.03130.pdf\n",
    "https://gist.github.com/tokestermw/eaa08f0637343ce55b022d9c5c73b872\n",
    "https://github.com/flrngel/Self-Attentive-tensorflow/blob/master/model.py\n",
    "'''\n"
   ]
  }
 ],
 "metadata": {
  "kernelspec": {
   "display_name": "Python 3",
   "language": "python",
   "name": "python3"
  },
  "language_info": {
   "codemirror_mode": {
    "name": "ipython",
    "version": 3
   },
   "file_extension": ".py",
   "mimetype": "text/x-python",
   "name": "python",
   "nbconvert_exporter": "python",
   "pygments_lexer": "ipython3",
   "version": "3.7.0"
  }
 },
 "nbformat": 4,
 "nbformat_minor": 2
}
