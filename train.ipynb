{
 "cells": [
  {
   "cell_type": "code",
   "execution_count": 1,
   "metadata": {},
   "outputs": [],
   "source": [
    "from pipeline import Pipeline\n",
    "from lang_pair import LangPair\n",
    "\n",
    "from models.encoder import Encoder\n",
    "from models.decoder import Decoder\n",
    "from models.attn import Attn\n",
    "\n",
    "from coach import Coach\n",
    "import torch.optim as optim\n",
    "import torch.nn as nn\n",
    "import torch\n",
    "\n",
    "import matplotlib.pyplot as plt\n",
    "import pandas as pd\n",
    "%matplotlib inline"
   ]
  },
  {
   "cell_type": "code",
   "execution_count": 2,
   "metadata": {},
   "outputs": [],
   "source": [
    "device = torch.device(\"cuda\" if torch.cuda.is_available() else \"cpu\")"
   ]
  },
  {
   "cell_type": "code",
   "execution_count": 3,
   "metadata": {},
   "outputs": [],
   "source": [
    "vi_vi_vocab, vi_en_vocab = Pipeline.load(\"vi_vi_train_10_chars_10k_vocab\").data, Pipeline.load(\"vi_en_train_10_chars_10k_vocab\").data\n",
    "vi_vi_idxs, vi_en_idxs = Pipeline.load(\"vi_idx_10chars_filter\").data"
   ]
  },
  {
   "cell_type": "code",
   "execution_count": 4,
   "metadata": {},
   "outputs": [],
   "source": [
    "vi_en_pair = LangPair(vi_vi_idxs, vi_vi_vocab.eos_idx, vi_en_idxs, vi_en_vocab.eos_idx, device = device)"
   ]
  },
  {
   "cell_type": "code",
   "execution_count": 5,
   "metadata": {},
   "outputs": [],
   "source": [
    "hidden_size = 256\n",
    "batch_size = 32\n",
    "learning_rate = .0001"
   ]
  },
  {
   "cell_type": "code",
   "execution_count": 6,
   "metadata": {},
   "outputs": [],
   "source": [
    "enc_params = {\n",
    "    \"input_vocab_size\": vi_vi_vocab.size,\n",
    "    \"hidden_size\": hidden_size,\n",
    "    \"n_layers\": 2,\n",
    "    \"dropout\": .3\n",
    "}"
   ]
  },
  {
   "cell_type": "code",
   "execution_count": 7,
   "metadata": {},
   "outputs": [],
   "source": [
    "dec_params = {\n",
    "    \"target_vocab_size\": vi_en_vocab.size,\n",
    "    \"hidden_size\": hidden_size,\n",
    "    \"n_layers\": 2,\n",
    "    \"dropout\": .3,\n",
    "    \"batch_size\": batch_size\n",
    "}"
   ]
  },
  {
   "cell_type": "code",
   "execution_count": 8,
   "metadata": {},
   "outputs": [],
   "source": [
    "attn_params = {\n",
    "    \"hidden_size\": hidden_size,\n",
    "    \"method\": \"dot\"\n",
    "}"
   ]
  },
  {
   "cell_type": "code",
   "execution_count": 9,
   "metadata": {},
   "outputs": [],
   "source": [
    "attn = Attn(**attn_params).to(device)\n",
    "encoder = Encoder(**enc_params).to(device)\n",
    "decoder = Decoder(**dec_params, attn = attn).to(device)"
   ]
  },
  {
   "cell_type": "code",
   "execution_count": 10,
   "metadata": {},
   "outputs": [],
   "source": [
    "enc_optimizer = optim.SGD(encoder.parameters(), lr = learning_rate)\n",
    "dec_optimizer = optim.SGD(decoder.parameters(), lr = learning_rate)\n",
    "loss_fn = nn.NLLLoss()"
   ]
  },
  {
   "cell_type": "code",
   "execution_count": 11,
   "metadata": {},
   "outputs": [],
   "source": [
    "coach_params = {\n",
    "    \"lang_pair\": vi_en_pair, \n",
    "    \"encoder\": encoder, \n",
    "    \"enc_optimizer\": enc_optimizer, \n",
    "    \"decoder\": decoder, \n",
    "    \"dec_optimizer\": dec_optimizer, \n",
    "    \"loss_fn\": loss_fn\n",
    "}\n",
    "\n",
    "coach = Coach(**coach_params)"
   ]
  },
  {
   "cell_type": "code",
   "execution_count": null,
   "metadata": {},
   "outputs": [],
   "source": [
    "training_params = {\n",
    "    \"learning_rate\": learning_rate,\n",
    "    \"iterations\": 10000,\n",
    "    \"print_interval\": 1000,\n",
    "    \"batch_size\": batch_size\n",
    "}"
   ]
  },
  {
   "cell_type": "code",
   "execution_count": null,
   "metadata": {},
   "outputs": [
    {
     "name": "stderr",
     "output_type": "stream",
     "text": [
      "Training Iterations:   4%|▍         | 14/312 [00:17<05:57,  1.20s/batch]"
     ]
    }
   ],
   "source": [
    "losses = coach.train(**training_params)"
   ]
  },
  {
   "cell_type": "code",
   "execution_count": null,
   "metadata": {},
   "outputs": [],
   "source": [
    "plt.plot(pd.Series(losses).rolling(100).mean())\n",
    "plt.show()"
   ]
  }
 ],
 "metadata": {
  "kernelspec": {
   "display_name": "Python 3",
   "language": "python",
   "name": "python3"
  },
  "language_info": {
   "codemirror_mode": {
    "name": "ipython",
    "version": 3
   },
   "file_extension": ".py",
   "mimetype": "text/x-python",
   "name": "python",
   "nbconvert_exporter": "python",
   "pygments_lexer": "ipython3",
   "version": "3.7.0"
  }
 },
 "nbformat": 4,
 "nbformat_minor": 2
}
